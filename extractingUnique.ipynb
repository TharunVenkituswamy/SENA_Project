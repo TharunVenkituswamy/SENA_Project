{
 "cells": [
  {
   "cell_type": "code",
   "execution_count": 1,
   "metadata": {},
   "outputs": [
    {
     "name": "stdout",
     "output_type": "stream",
     "text": [
      "Index(['Name', 'Actor_1', 'Actor_2', 'Actor_3', 'Acotr_4', 'Unnamed: 5',\n",
      "       'Unnamed: 6', 'Unnamed: 7', 'Unnamed: 8', 'Unnamed: 9', 'Unnamed: 10',\n",
      "       'Unnamed: 11', 'Unnamed: 12', 'Unnamed: 13', 'Unnamed: 14',\n",
      "       'Unnamed: 15', 'Unnamed: 16', 'Unnamed: 17', 'Unnamed: 18',\n",
      "       'Unnamed: 19', 'Unnamed: 20', 'Unnamed: 21', 'Unnamed: 22',\n",
      "       'Unnamed: 23', 'Unnamed: 24', 'Unnamed: 25'],\n",
      "      dtype='object')\n"
     ]
    }
   ],
   "source": [
    "import pandas as pd\n",
    "  \n",
    "# load the data with pd.read_csv\n",
    "record = pd.read_csv(\"SENA_Dataset - MCUActorList.csv\") \n",
    "  \n",
    "result = record.columns\n",
    "\n",
    "print(result)"
   ]
  },
  {
   "cell_type": "code",
   "execution_count": 3,
   "metadata": {},
   "outputs": [
    {
     "name": "stdout",
     "output_type": "stream",
     "text": [
      "['Robert Downey Jr.' 'Edward Norton' 'Chris Hemsworth' 'Chris Evans'\n",
      " 'Chris Patt' 'Paul Rudd' 'Benedict Cumberbatch' 'Tom Holland'\n",
      " 'Chadwick Boseman' 'Brie Larson' 'Scarlett Johansson' 'Simu Liu'\n",
      " 'Gemma Chan']\n"
     ]
    }
   ],
   "source": [
    "\n",
    "list1 = []\n",
    "list1 = record['Actor_1'].unique()\n",
    "print(list1)"
   ]
  },
  {
   "cell_type": "code",
   "execution_count": null,
   "metadata": {},
   "outputs": [],
   "source": []
  }
 ],
 "metadata": {
  "kernelspec": {
   "display_name": "Python 3.9.7 ('base')",
   "language": "python",
   "name": "python3"
  },
  "language_info": {
   "codemirror_mode": {
    "name": "ipython",
    "version": 3
   },
   "file_extension": ".py",
   "mimetype": "text/x-python",
   "name": "python",
   "nbconvert_exporter": "python",
   "pygments_lexer": "ipython3",
   "version": "3.9.7"
  },
  "orig_nbformat": 4,
  "vscode": {
   "interpreter": {
    "hash": "0a7c18412452d856a2f3ac0e5542b5d3b9d9d12e2269ac84ef541b341750302a"
   }
  }
 },
 "nbformat": 4,
 "nbformat_minor": 2
}
