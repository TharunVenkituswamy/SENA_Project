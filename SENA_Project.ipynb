{
 "cells": [
  {
   "cell_type": "code",
   "execution_count": 38,
   "metadata": {},
   "outputs": [],
   "source": [
    "import pandas as pd\n",
    "import numpy as np\n",
    "import networkx as nx\n",
    "from plotly.offline import download_plotlyjs, init_notebook_mode, iplot\n",
    "import plotly.graph_objs as go"
   ]
  },
  {
   "cell_type": "code",
   "execution_count": 39,
   "metadata": {},
   "outputs": [],
   "source": [
    "network_df = pd.read_csv(\"SENA_Dataset - MCUActorList.csv\") "
   ]
  },
  {
   "cell_type": "code",
   "execution_count": 40,
   "metadata": {},
   "outputs": [
    {
     "data": {
      "text/html": [
       "<div>\n",
       "<style scoped>\n",
       "    .dataframe tbody tr th:only-of-type {\n",
       "        vertical-align: middle;\n",
       "    }\n",
       "\n",
       "    .dataframe tbody tr th {\n",
       "        vertical-align: top;\n",
       "    }\n",
       "\n",
       "    .dataframe thead th {\n",
       "        text-align: right;\n",
       "    }\n",
       "</style>\n",
       "<table border=\"1\" class=\"dataframe\">\n",
       "  <thead>\n",
       "    <tr style=\"text-align: right;\">\n",
       "      <th></th>\n",
       "      <th>Name</th>\n",
       "      <th>Actor_1</th>\n",
       "      <th>Unnamed: 2</th>\n",
       "      <th>Unnamed: 3</th>\n",
       "      <th>Unnamed: 4</th>\n",
       "      <th>Unnamed: 5</th>\n",
       "      <th>Unnamed: 6</th>\n",
       "      <th>Unnamed: 7</th>\n",
       "      <th>Unnamed: 8</th>\n",
       "      <th>Unnamed: 9</th>\n",
       "      <th>...</th>\n",
       "      <th>Unnamed: 16</th>\n",
       "      <th>Unnamed: 17</th>\n",
       "      <th>Unnamed: 18</th>\n",
       "      <th>Unnamed: 19</th>\n",
       "      <th>Unnamed: 20</th>\n",
       "      <th>Unnamed: 21</th>\n",
       "      <th>Unnamed: 22</th>\n",
       "      <th>Unnamed: 23</th>\n",
       "      <th>Unnamed: 24</th>\n",
       "      <th>Unnamed: 25</th>\n",
       "    </tr>\n",
       "  </thead>\n",
       "  <tbody>\n",
       "    <tr>\n",
       "      <th>0</th>\n",
       "      <td>Iron Man</td>\n",
       "      <td>Robert Downey Jr.</td>\n",
       "      <td>Gweneth Paltrow</td>\n",
       "      <td>Terrence Howard</td>\n",
       "      <td>NaN</td>\n",
       "      <td>NaN</td>\n",
       "      <td>NaN</td>\n",
       "      <td>NaN</td>\n",
       "      <td>NaN</td>\n",
       "      <td>NaN</td>\n",
       "      <td>...</td>\n",
       "      <td>NaN</td>\n",
       "      <td>NaN</td>\n",
       "      <td>NaN</td>\n",
       "      <td>NaN</td>\n",
       "      <td>NaN</td>\n",
       "      <td>NaN</td>\n",
       "      <td>NaN</td>\n",
       "      <td>NaN</td>\n",
       "      <td>NaN</td>\n",
       "      <td>NaN</td>\n",
       "    </tr>\n",
       "    <tr>\n",
       "      <th>1</th>\n",
       "      <td>The incredible Hulk</td>\n",
       "      <td>Edward Norton</td>\n",
       "      <td>Liv Tyler</td>\n",
       "      <td>Tim Roth</td>\n",
       "      <td>NaN</td>\n",
       "      <td>NaN</td>\n",
       "      <td>NaN</td>\n",
       "      <td>NaN</td>\n",
       "      <td>NaN</td>\n",
       "      <td>NaN</td>\n",
       "      <td>...</td>\n",
       "      <td>NaN</td>\n",
       "      <td>NaN</td>\n",
       "      <td>NaN</td>\n",
       "      <td>NaN</td>\n",
       "      <td>NaN</td>\n",
       "      <td>NaN</td>\n",
       "      <td>NaN</td>\n",
       "      <td>NaN</td>\n",
       "      <td>NaN</td>\n",
       "      <td>NaN</td>\n",
       "    </tr>\n",
       "    <tr>\n",
       "      <th>2</th>\n",
       "      <td>Iron Man 2</td>\n",
       "      <td>Robert Downey Jr.</td>\n",
       "      <td>Gweneth Paltrow</td>\n",
       "      <td>Mickey Rourke</td>\n",
       "      <td>Samuel L. Jackson</td>\n",
       "      <td>Scarlett Johansson</td>\n",
       "      <td>Don Cheadle</td>\n",
       "      <td>NaN</td>\n",
       "      <td>NaN</td>\n",
       "      <td>NaN</td>\n",
       "      <td>...</td>\n",
       "      <td>NaN</td>\n",
       "      <td>NaN</td>\n",
       "      <td>NaN</td>\n",
       "      <td>NaN</td>\n",
       "      <td>NaN</td>\n",
       "      <td>NaN</td>\n",
       "      <td>NaN</td>\n",
       "      <td>NaN</td>\n",
       "      <td>NaN</td>\n",
       "      <td>NaN</td>\n",
       "    </tr>\n",
       "    <tr>\n",
       "      <th>3</th>\n",
       "      <td>Thor</td>\n",
       "      <td>Chris Hemsworth</td>\n",
       "      <td>Anthony Hopkins</td>\n",
       "      <td>Natalie Portman</td>\n",
       "      <td>Idris Elba</td>\n",
       "      <td>Tom Hiddleston</td>\n",
       "      <td>NaN</td>\n",
       "      <td>NaN</td>\n",
       "      <td>NaN</td>\n",
       "      <td>NaN</td>\n",
       "      <td>...</td>\n",
       "      <td>NaN</td>\n",
       "      <td>NaN</td>\n",
       "      <td>NaN</td>\n",
       "      <td>NaN</td>\n",
       "      <td>NaN</td>\n",
       "      <td>NaN</td>\n",
       "      <td>NaN</td>\n",
       "      <td>NaN</td>\n",
       "      <td>NaN</td>\n",
       "      <td>NaN</td>\n",
       "    </tr>\n",
       "    <tr>\n",
       "      <th>4</th>\n",
       "      <td>Captain America: The first Avenger</td>\n",
       "      <td>Chris Evans</td>\n",
       "      <td>Hugo Weaving</td>\n",
       "      <td>Samuel L. Jackson</td>\n",
       "      <td>NaN</td>\n",
       "      <td>NaN</td>\n",
       "      <td>NaN</td>\n",
       "      <td>NaN</td>\n",
       "      <td>NaN</td>\n",
       "      <td>NaN</td>\n",
       "      <td>...</td>\n",
       "      <td>NaN</td>\n",
       "      <td>NaN</td>\n",
       "      <td>NaN</td>\n",
       "      <td>NaN</td>\n",
       "      <td>NaN</td>\n",
       "      <td>NaN</td>\n",
       "      <td>NaN</td>\n",
       "      <td>NaN</td>\n",
       "      <td>NaN</td>\n",
       "      <td>NaN</td>\n",
       "    </tr>\n",
       "  </tbody>\n",
       "</table>\n",
       "<p>5 rows × 26 columns</p>\n",
       "</div>"
      ],
      "text/plain": [
       "                                 Name            Actor_1       Unnamed: 2  \\\n",
       "0                            Iron Man  Robert Downey Jr.  Gweneth Paltrow   \n",
       "1                 The incredible Hulk      Edward Norton        Liv Tyler   \n",
       "2                          Iron Man 2  Robert Downey Jr.  Gweneth Paltrow   \n",
       "3                                Thor    Chris Hemsworth  Anthony Hopkins   \n",
       "4  Captain America: The first Avenger        Chris Evans     Hugo Weaving   \n",
       "\n",
       "          Unnamed: 3         Unnamed: 4          Unnamed: 5   Unnamed: 6  \\\n",
       "0    Terrence Howard                NaN                 NaN          NaN   \n",
       "1           Tim Roth                NaN                 NaN          NaN   \n",
       "2      Mickey Rourke  Samuel L. Jackson  Scarlett Johansson  Don Cheadle   \n",
       "3    Natalie Portman         Idris Elba      Tom Hiddleston          NaN   \n",
       "4  Samuel L. Jackson                NaN                 NaN          NaN   \n",
       "\n",
       "  Unnamed: 7 Unnamed: 8 Unnamed: 9  ... Unnamed: 16 Unnamed: 17 Unnamed: 18  \\\n",
       "0        NaN        NaN        NaN  ...         NaN         NaN         NaN   \n",
       "1        NaN        NaN        NaN  ...         NaN         NaN         NaN   \n",
       "2        NaN        NaN        NaN  ...         NaN         NaN         NaN   \n",
       "3        NaN        NaN        NaN  ...         NaN         NaN         NaN   \n",
       "4        NaN        NaN        NaN  ...         NaN         NaN         NaN   \n",
       "\n",
       "  Unnamed: 19 Unnamed: 20 Unnamed: 21 Unnamed: 22 Unnamed: 23 Unnamed: 24  \\\n",
       "0         NaN         NaN         NaN         NaN         NaN         NaN   \n",
       "1         NaN         NaN         NaN         NaN         NaN         NaN   \n",
       "2         NaN         NaN         NaN         NaN         NaN         NaN   \n",
       "3         NaN         NaN         NaN         NaN         NaN         NaN   \n",
       "4         NaN         NaN         NaN         NaN         NaN         NaN   \n",
       "\n",
       "  Unnamed: 25  \n",
       "0         NaN  \n",
       "1         NaN  \n",
       "2         NaN  \n",
       "3         NaN  \n",
       "4         NaN  \n",
       "\n",
       "[5 rows x 26 columns]"
      ]
     },
     "execution_count": 40,
     "metadata": {},
     "output_type": "execute_result"
    }
   ],
   "source": [
    "network_df.head()"
   ]
  },
  {
   "cell_type": "code",
   "execution_count": 41,
   "metadata": {},
   "outputs": [
    {
     "name": "stdout",
     "output_type": "stream",
     "text": [
      "['Iron Man', 'The incredible Hulk', 'Iron Man 2', 'Thor', 'Captain America: The first Avenger', \"Marvel's the Avengers\", 'Iron Man 3', 'Thor: The dark world', 'Captain America : The Winter Soldier', 'Guardians Of the Galaxy', 'Avengers : Age of Ultron', 'Ant-Man', 'Captain America: Civil War', 'Doctor Strange', 'Guardians of the Galaxy Vol. 2', 'Spider-Man:Homecoming', 'Thor:Ragnarok', 'Black Panther', 'Avengers: Infinity War', 'Ant-Man and the Wasp', 'Captain-Marvel', 'Avengers:Endgame', 'Spider-Man:Far From Home', 'Black Widow', 'Shang-Chi and the Legend of the Ten Rings', 'Eternals', 'Spider-Man: No Way Home', 'Doctor Strange in the Multiverse of Madness', 'Thor: Love and Thunder']\n"
     ]
    }
   ],
   "source": [
    "A = list(network_df[\"Name\"])\n",
    "print(A)"
   ]
  },
  {
   "cell_type": "code",
   "execution_count": 42,
   "metadata": {},
   "outputs": [
    {
     "name": "stdout",
     "output_type": "stream",
     "text": [
      "['Robert Downey Jr.', 'Edward Norton', 'Robert Downey Jr.', 'Chris Hemsworth', 'Chris Evans', 'Robert Downey Jr.', 'Robert Downey Jr.', 'Chris Hemsworth', 'Chris Evans', 'Chris Patt', 'Robert Downey Jr.', 'Paul Rudd', 'Robert Downey Jr.', 'Benedict Cumberbatch', 'Chris Patt', 'Tom Holland', 'Chris Hemsworth', 'Chadwick Boseman', 'Robert Downey Jr.', 'Paul Rudd', 'Brie Larson', 'Robert Downey Jr.', 'Tom Holland', 'Scarlett Johansson', 'Simu Liu', 'Gemma Chan', 'Tom Holland', 'Benedict Cumberbatch', 'Chris Hemsworth']\n"
     ]
    }
   ],
   "source": [
    "B = list(network_df[\"Actor_1\"])\n",
    "print(B)"
   ]
  },
  {
   "cell_type": "code",
   "execution_count": 43,
   "metadata": {},
   "outputs": [],
   "source": [
    "node_list = set(A+B)"
   ]
  },
  {
   "cell_type": "code",
   "execution_count": 44,
   "metadata": {},
   "outputs": [],
   "source": [
    "G = nx.Graph()"
   ]
  },
  {
   "cell_type": "code",
   "execution_count": 45,
   "metadata": {},
   "outputs": [],
   "source": [
    "for i in node_list:\n",
    "    G.add_node(i)"
   ]
  },
  {
   "cell_type": "code",
   "execution_count": 46,
   "metadata": {},
   "outputs": [
    {
     "data": {
      "text/plain": [
       "NodeView(('Scarlett Johansson', 'Gemma Chan', 'Eternals', 'Iron Man 3', 'The incredible Hulk', \"Marvel's the Avengers\", 'Spider-Man:Far From Home', 'Doctor Strange', 'Ant-Man and the Wasp', 'Black Widow', 'Tom Holland', 'Paul Rudd', 'Captain America: The first Avenger', 'Edward Norton', 'Thor: The dark world', 'Benedict Cumberbatch', 'Avengers : Age of Ultron', 'Iron Man 2', 'Iron Man', 'Chris Evans', 'Chris Patt', 'Thor', 'Robert Downey Jr.', 'Thor:Ragnarok', 'Chris Hemsworth', 'Captain-Marvel', 'Ant-Man', 'Doctor Strange in the Multiverse of Madness', 'Avengers: Infinity War', 'Guardians Of the Galaxy', 'Shang-Chi and the Legend of the Ten Rings', 'Avengers:Endgame', 'Spider-Man: No Way Home', 'Spider-Man:Homecoming', 'Thor: Love and Thunder', 'Chadwick Boseman', 'Captain America: Civil War', 'Captain America : The Winter Soldier', 'Black Panther', 'Brie Larson', 'Guardians of the Galaxy Vol. 2', 'Simu Liu'))"
      ]
     },
     "execution_count": 46,
     "metadata": {},
     "output_type": "execute_result"
    }
   ],
   "source": [
    "G.nodes()"
   ]
  },
  {
   "cell_type": "code",
   "execution_count": 47,
   "metadata": {},
   "outputs": [],
   "source": [
    "for i,j in network_df.iterrows():\n",
    "    G.add_edges_from([(j[\"Name\"],j[\"Actor_1\"])])"
   ]
  },
  {
   "cell_type": "code",
   "execution_count": 48,
   "metadata": {},
   "outputs": [],
   "source": [
    "pos = nx.spring_layout(G, k=0.5, iterations=50)"
   ]
  },
  {
   "cell_type": "code",
   "execution_count": 49,
   "metadata": {},
   "outputs": [
    {
     "data": {
      "text/plain": [
       "{'Scarlett Johansson': array([-0.08334448,  0.75478846]),\n",
       " 'Gemma Chan': array([0.12628582, 0.97025998]),\n",
       " 'Eternals': array([-0.00809836,  1.        ]),\n",
       " 'Iron Man 3': array([ 0.40354459, -0.73361606]),\n",
       " 'The incredible Hulk': array([-0.44954288,  0.02566291]),\n",
       " \"Marvel's the Avengers\": array([ 0.41648218, -0.87661651]),\n",
       " 'Spider-Man:Far From Home': array([0.79352949, 0.35320458]),\n",
       " 'Doctor Strange': array([0.95426253, 0.04633696]),\n",
       " 'Ant-Man and the Wasp': array([-0.10080142, -0.83971817]),\n",
       " 'Black Widow': array([0.21109845, 0.95697351]),\n",
       " 'Tom Holland': array([0.72141853, 0.10847935]),\n",
       " 'Paul Rudd': array([-0.28455994, -0.89268364]),\n",
       " 'Captain America: The first Avenger': array([0.66418441, 0.70359284]),\n",
       " 'Edward Norton': array([-0.46954208,  0.17834306]),\n",
       " 'Thor: The dark world': array([-0.62481501,  0.61979227]),\n",
       " 'Benedict Cumberbatch': array([ 0.83734839, -0.16563277]),\n",
       " 'Avengers : Age of Ultron': array([-0.19181278, -0.28391307]),\n",
       " 'Iron Man 2': array([ 0.5315431 , -0.66373537]),\n",
       " 'Iron Man': array([ 0.25960706, -0.92530707]),\n",
       " 'Chris Evans': array([0.44544168, 0.75493375]),\n",
       " 'Chris Patt': array([-0.36355339,  0.66233855]),\n",
       " 'Thor': array([-0.73002227,  0.03365405]),\n",
       " 'Robert Downey Jr.': array([ 0.17706366, -0.52332176]),\n",
       " 'Thor:Ragnarok': array([-0.45765507,  0.42907125]),\n",
       " 'Chris Hemsworth': array([-0.63523457,  0.33628576]),\n",
       " 'Captain-Marvel': array([-0.82148049, -0.55309158]),\n",
       " 'Ant-Man': array([ 0.01146087, -0.80550652]),\n",
       " 'Doctor Strange in the Multiverse of Madness': array([ 0.97173426, -0.31471284]),\n",
       " 'Avengers: Infinity War': array([ 0.07074084, -0.6515335 ]),\n",
       " 'Guardians Of the Galaxy': array([-0.16781112,  0.63447578]),\n",
       " 'Shang-Chi and the Legend of the Ten Rings': array([-0.95701533,  0.17453255]),\n",
       " 'Avengers:Endgame': array([-0.07902559, -0.32959713]),\n",
       " 'Spider-Man: No Way Home': array([0.91281048, 0.25384173]),\n",
       " 'Spider-Man:Homecoming': array([ 0.97166657, -0.05910944]),\n",
       " 'Thor: Love and Thunder': array([-0.85380514,  0.49104058]),\n",
       " 'Chadwick Boseman': array([-0.23936038, -0.9261948 ]),\n",
       " 'Captain America: Civil War': array([ 0.30143266, -0.29543375]),\n",
       " 'Captain America : The Winter Soldier': array([0.18108341, 0.74491831]),\n",
       " 'Black Panther': array([-0.35770341, -0.66576932]),\n",
       " 'Brie Larson': array([-0.6100316, -0.5557035]),\n",
       " 'Guardians of the Galaxy Vol. 2': array([-0.57801185,  0.8449742 ]),\n",
       " 'Simu Liu': array([-0.89951182, -0.01630365])}"
      ]
     },
     "execution_count": 49,
     "metadata": {},
     "output_type": "execute_result"
    }
   ],
   "source": [
    "pos"
   ]
  },
  {
   "cell_type": "code",
   "execution_count": 52,
   "metadata": {},
   "outputs": [],
   "source": [
    "for n, p in pos.items():\n",
    "    G.nodes[n]['pos'] = p"
   ]
  },
  {
   "cell_type": "code",
   "execution_count": 54,
   "metadata": {},
   "outputs": [],
   "source": [
    "edge_trace = go.Scatter(\n",
    "    x=[],\n",
    "    y=[],\n",
    "    line=dict(width=0.5,color='#888'),\n",
    "    hoverinfo='none',\n",
    "    mode='lines')\n",
    "\n",
    "for edge in G.edges():\n",
    "    x0, y0 = G.nodes[edge[0]]['pos']\n",
    "    x1, y1 = G.nodes[edge[1]]['pos']\n",
    "    edge_trace['x'] += tuple([x0, x1, None])\n",
    "    edge_trace['y'] += tuple([y0, y1, None])"
   ]
  },
  {
   "cell_type": "code",
   "execution_count": 56,
   "metadata": {},
   "outputs": [],
   "source": [
    "node_trace = go.Scatter(\n",
    "    x=[],\n",
    "    y=[],\n",
    "    text=[],\n",
    "    mode='markers',\n",
    "    hoverinfo='text',\n",
    "    marker=dict(\n",
    "        showscale=True,\n",
    "        colorscale='RdBu',\n",
    "        reversescale=True,\n",
    "        color=[],\n",
    "        size=15,\n",
    "        colorbar=dict(\n",
    "            thickness=10,\n",
    "            title='Node Connections',\n",
    "            xanchor='left',\n",
    "            titleside='right'\n",
    "        ),\n",
    "        line=dict(width=0)))\n",
    "\n",
    "for node in G.nodes():\n",
    "    x, y = G.nodes[node]['pos']\n",
    "    node_trace['x'] += tuple([x])\n",
    "    node_trace['y'] += tuple([y])"
   ]
  },
  {
   "cell_type": "code",
   "execution_count": 63,
   "metadata": {},
   "outputs": [
    {
     "data": {
      "application/vnd.plotly.v1+json": {
       "config": {
        "linkText": "Export to plot.ly",
        "plotlyServerURL": "https://plot.ly",
        "showLink": false
       },
       "data": [
        {
         "hoverinfo": "none",
         "line": {
          "color": "#888",
          "width": 0.5
         },
         "mode": "lines",
         "type": "scatter",
         "x": [
          -0.08334447959374644,
          0.21109844785878412,
          null,
          0.1262858158551914,
          -0.008098363150370672,
          null,
          0.40354458835093027,
          0.17706365744436886,
          null,
          -0.44954287788049313,
          -0.46954207852816315,
          null,
          0.41648218418195526,
          0.17706365744436886,
          null,
          0.7935294895868377,
          0.7214185290042231,
          null,
          0.9542625307450892,
          0.8373483946464031,
          null,
          -0.10080141965571536,
          -0.28455994295662135,
          null,
          0.7214185290042231,
          0.9716665679804095,
          null,
          0.7214185290042231,
          0.9128104826638516,
          null,
          -0.28455994295662135,
          0.011460873944696621,
          null,
          0.6641844084746304,
          0.44544168407060364,
          null,
          -0.6248150084879928,
          -0.6352345686140889,
          null,
          0.8373483946464031,
          0.9717342594519089,
          null,
          -0.19181277743480515,
          0.17706365744436886,
          null,
          0.5315430970474686,
          0.17706365744436886,
          null,
          0.25960706164591757,
          0.17706365744436886,
          null,
          0.44544168407060364,
          0.18108340901770498,
          null,
          -0.3635533945733823,
          -0.1678111176716373,
          null,
          -0.3635533945733823,
          -0.5780118453228629,
          null,
          -0.7300222726177085,
          -0.6352345686140889,
          null,
          0.17706365744436886,
          0.3014326628033376,
          null,
          0.17706365744436886,
          0.07074084302106359,
          null,
          0.17706365744436886,
          -0.07902559017693737,
          null,
          -0.45765506790148175,
          -0.6352345686140889,
          null,
          -0.6352345686140889,
          -0.8538051446178897,
          null,
          -0.8214804882476787,
          -0.6100316028625922,
          null,
          -0.9570153333314584,
          -0.899511823409947,
          null,
          -0.23936037975529706,
          -0.3577034110045065,
          null
         ],
         "y": [
          0.7547884634828198,
          0.9569735055911589,
          null,
          0.9702599827774321,
          1,
          null,
          -0.7336160636559823,
          -0.5233217582958144,
          null,
          0.025662911333589042,
          0.1783430561853207,
          null,
          -0.8766165053379187,
          -0.5233217582958144,
          null,
          0.3532045778605667,
          0.10847934669748117,
          null,
          0.0463369648246313,
          -0.16563276947204236,
          null,
          -0.8397181697488663,
          -0.8926836377867369,
          null,
          0.10847934669748117,
          -0.05910943749499387,
          null,
          0.10847934669748117,
          0.2538417295260454,
          null,
          -0.8926836377867369,
          -0.8055065157151842,
          null,
          0.7035928387413173,
          0.7549337512705205,
          null,
          0.6197922719328306,
          0.3362857589858566,
          null,
          -0.16563276947204236,
          -0.314712836531989,
          null,
          -0.2839130723589035,
          -0.5233217582958144,
          null,
          -0.6637353679485622,
          -0.5233217582958144,
          null,
          -0.9253070704559786,
          -0.5233217582958144,
          null,
          0.7549337512705205,
          0.7449183095156425,
          null,
          0.6623385534893759,
          0.6344757848090613,
          null,
          0.6623385534893759,
          0.8449741953424642,
          null,
          0.03365404785527563,
          0.3362857589858566,
          null,
          -0.5233217582958144,
          -0.29543375210011297,
          null,
          -0.5233217582958144,
          -0.6515334953437232,
          null,
          -0.5233217582958144,
          -0.32959713169976856,
          null,
          0.42907125138316865,
          0.3362857589858566,
          null,
          0.3362857589858566,
          0.4910405760523306,
          null,
          -0.553091576597582,
          -0.5557034951023668,
          null,
          0.17453254805175303,
          -0.01630364841783663,
          null,
          -0.926194803920294,
          -0.6657693177239857,
          null
         ]
        },
        {
         "hoverinfo": "text",
         "marker": {
          "color": [],
          "colorbar": {
           "thickness": 10,
           "title": {
            "side": "right",
            "text": "Node Connections"
           },
           "xanchor": "left"
          },
          "colorscale": [
           [
            0,
            "rgb(103,0,31)"
           ],
           [
            0.1,
            "rgb(178,24,43)"
           ],
           [
            0.2,
            "rgb(214,96,77)"
           ],
           [
            0.3,
            "rgb(244,165,130)"
           ],
           [
            0.4,
            "rgb(253,219,199)"
           ],
           [
            0.5,
            "rgb(247,247,247)"
           ],
           [
            0.6,
            "rgb(209,229,240)"
           ],
           [
            0.7,
            "rgb(146,197,222)"
           ],
           [
            0.8,
            "rgb(67,147,195)"
           ],
           [
            0.9,
            "rgb(33,102,172)"
           ],
           [
            1,
            "rgb(5,48,97)"
           ]
          ],
          "line": {
           "width": 0
          },
          "reversescale": true,
          "showscale": true,
          "size": 15
         },
         "mode": "markers",
         "text": [],
         "type": "scatter",
         "x": [
          -0.08334447959374644,
          0.1262858158551914,
          -0.008098363150370672,
          0.40354458835093027,
          -0.44954287788049313,
          0.41648218418195526,
          0.7935294895868377,
          0.9542625307450892,
          -0.10080141965571536,
          0.21109844785878412,
          0.7214185290042231,
          -0.28455994295662135,
          0.6641844084746304,
          -0.46954207852816315,
          -0.6248150084879928,
          0.8373483946464031,
          -0.19181277743480515,
          0.5315430970474686,
          0.25960706164591757,
          0.44544168407060364,
          -0.3635533945733823,
          -0.7300222726177085,
          0.17706365744436886,
          -0.45765506790148175,
          -0.6352345686140889,
          -0.8214804882476787,
          0.011460873944696621,
          0.9717342594519089,
          0.07074084302106359,
          -0.1678111176716373,
          -0.9570153333314584,
          -0.07902559017693737,
          0.9128104826638516,
          0.9716665679804095,
          -0.8538051446178897,
          -0.23936037975529706,
          0.3014326628033376,
          0.18108340901770498,
          -0.3577034110045065,
          -0.6100316028625922,
          -0.5780118453228629,
          -0.899511823409947
         ],
         "y": [
          0.7547884634828198,
          0.9702599827774321,
          1,
          -0.7336160636559823,
          0.025662911333589042,
          -0.8766165053379187,
          0.3532045778605667,
          0.0463369648246313,
          -0.8397181697488663,
          0.9569735055911589,
          0.10847934669748117,
          -0.8926836377867369,
          0.7035928387413173,
          0.1783430561853207,
          0.6197922719328306,
          -0.16563276947204236,
          -0.2839130723589035,
          -0.6637353679485622,
          -0.9253070704559786,
          0.7549337512705205,
          0.6623385534893759,
          0.03365404785527563,
          -0.5233217582958144,
          0.42907125138316865,
          0.3362857589858566,
          -0.553091576597582,
          -0.8055065157151842,
          -0.314712836531989,
          -0.6515334953437232,
          0.6344757848090613,
          0.17453254805175303,
          -0.32959713169976856,
          0.2538417295260454,
          -0.05910943749499387,
          0.4910405760523306,
          -0.926194803920294,
          -0.29543375210011297,
          0.7449183095156425,
          -0.6657693177239857,
          -0.5557034951023668,
          0.8449741953424642,
          -0.01630364841783663
         ]
        }
       ],
       "layout": {
        "annotations": [
         {
          "showarrow": false,
          "text": "No. of connections",
          "xref": "paper",
          "yref": "paper"
         }
        ],
        "hovermode": "closest",
        "margin": {
         "b": 20,
         "l": 5,
         "r": 5,
         "t": 40
        },
        "showlegend": false,
        "template": {
         "data": {
          "bar": [
           {
            "error_x": {
             "color": "#2a3f5f"
            },
            "error_y": {
             "color": "#2a3f5f"
            },
            "marker": {
             "line": {
              "color": "#E5ECF6",
              "width": 0.5
             },
             "pattern": {
              "fillmode": "overlay",
              "size": 10,
              "solidity": 0.2
             }
            },
            "type": "bar"
           }
          ],
          "barpolar": [
           {
            "marker": {
             "line": {
              "color": "#E5ECF6",
              "width": 0.5
             },
             "pattern": {
              "fillmode": "overlay",
              "size": 10,
              "solidity": 0.2
             }
            },
            "type": "barpolar"
           }
          ],
          "carpet": [
           {
            "aaxis": {
             "endlinecolor": "#2a3f5f",
             "gridcolor": "white",
             "linecolor": "white",
             "minorgridcolor": "white",
             "startlinecolor": "#2a3f5f"
            },
            "baxis": {
             "endlinecolor": "#2a3f5f",
             "gridcolor": "white",
             "linecolor": "white",
             "minorgridcolor": "white",
             "startlinecolor": "#2a3f5f"
            },
            "type": "carpet"
           }
          ],
          "choropleth": [
           {
            "colorbar": {
             "outlinewidth": 0,
             "ticks": ""
            },
            "type": "choropleth"
           }
          ],
          "contour": [
           {
            "colorbar": {
             "outlinewidth": 0,
             "ticks": ""
            },
            "colorscale": [
             [
              0,
              "#0d0887"
             ],
             [
              0.1111111111111111,
              "#46039f"
             ],
             [
              0.2222222222222222,
              "#7201a8"
             ],
             [
              0.3333333333333333,
              "#9c179e"
             ],
             [
              0.4444444444444444,
              "#bd3786"
             ],
             [
              0.5555555555555556,
              "#d8576b"
             ],
             [
              0.6666666666666666,
              "#ed7953"
             ],
             [
              0.7777777777777778,
              "#fb9f3a"
             ],
             [
              0.8888888888888888,
              "#fdca26"
             ],
             [
              1,
              "#f0f921"
             ]
            ],
            "type": "contour"
           }
          ],
          "contourcarpet": [
           {
            "colorbar": {
             "outlinewidth": 0,
             "ticks": ""
            },
            "type": "contourcarpet"
           }
          ],
          "heatmap": [
           {
            "colorbar": {
             "outlinewidth": 0,
             "ticks": ""
            },
            "colorscale": [
             [
              0,
              "#0d0887"
             ],
             [
              0.1111111111111111,
              "#46039f"
             ],
             [
              0.2222222222222222,
              "#7201a8"
             ],
             [
              0.3333333333333333,
              "#9c179e"
             ],
             [
              0.4444444444444444,
              "#bd3786"
             ],
             [
              0.5555555555555556,
              "#d8576b"
             ],
             [
              0.6666666666666666,
              "#ed7953"
             ],
             [
              0.7777777777777778,
              "#fb9f3a"
             ],
             [
              0.8888888888888888,
              "#fdca26"
             ],
             [
              1,
              "#f0f921"
             ]
            ],
            "type": "heatmap"
           }
          ],
          "heatmapgl": [
           {
            "colorbar": {
             "outlinewidth": 0,
             "ticks": ""
            },
            "colorscale": [
             [
              0,
              "#0d0887"
             ],
             [
              0.1111111111111111,
              "#46039f"
             ],
             [
              0.2222222222222222,
              "#7201a8"
             ],
             [
              0.3333333333333333,
              "#9c179e"
             ],
             [
              0.4444444444444444,
              "#bd3786"
             ],
             [
              0.5555555555555556,
              "#d8576b"
             ],
             [
              0.6666666666666666,
              "#ed7953"
             ],
             [
              0.7777777777777778,
              "#fb9f3a"
             ],
             [
              0.8888888888888888,
              "#fdca26"
             ],
             [
              1,
              "#f0f921"
             ]
            ],
            "type": "heatmapgl"
           }
          ],
          "histogram": [
           {
            "marker": {
             "pattern": {
              "fillmode": "overlay",
              "size": 10,
              "solidity": 0.2
             }
            },
            "type": "histogram"
           }
          ],
          "histogram2d": [
           {
            "colorbar": {
             "outlinewidth": 0,
             "ticks": ""
            },
            "colorscale": [
             [
              0,
              "#0d0887"
             ],
             [
              0.1111111111111111,
              "#46039f"
             ],
             [
              0.2222222222222222,
              "#7201a8"
             ],
             [
              0.3333333333333333,
              "#9c179e"
             ],
             [
              0.4444444444444444,
              "#bd3786"
             ],
             [
              0.5555555555555556,
              "#d8576b"
             ],
             [
              0.6666666666666666,
              "#ed7953"
             ],
             [
              0.7777777777777778,
              "#fb9f3a"
             ],
             [
              0.8888888888888888,
              "#fdca26"
             ],
             [
              1,
              "#f0f921"
             ]
            ],
            "type": "histogram2d"
           }
          ],
          "histogram2dcontour": [
           {
            "colorbar": {
             "outlinewidth": 0,
             "ticks": ""
            },
            "colorscale": [
             [
              0,
              "#0d0887"
             ],
             [
              0.1111111111111111,
              "#46039f"
             ],
             [
              0.2222222222222222,
              "#7201a8"
             ],
             [
              0.3333333333333333,
              "#9c179e"
             ],
             [
              0.4444444444444444,
              "#bd3786"
             ],
             [
              0.5555555555555556,
              "#d8576b"
             ],
             [
              0.6666666666666666,
              "#ed7953"
             ],
             [
              0.7777777777777778,
              "#fb9f3a"
             ],
             [
              0.8888888888888888,
              "#fdca26"
             ],
             [
              1,
              "#f0f921"
             ]
            ],
            "type": "histogram2dcontour"
           }
          ],
          "mesh3d": [
           {
            "colorbar": {
             "outlinewidth": 0,
             "ticks": ""
            },
            "type": "mesh3d"
           }
          ],
          "parcoords": [
           {
            "line": {
             "colorbar": {
              "outlinewidth": 0,
              "ticks": ""
             }
            },
            "type": "parcoords"
           }
          ],
          "pie": [
           {
            "automargin": true,
            "type": "pie"
           }
          ],
          "scatter": [
           {
            "fillpattern": {
             "fillmode": "overlay",
             "size": 10,
             "solidity": 0.2
            },
            "type": "scatter"
           }
          ],
          "scatter3d": [
           {
            "line": {
             "colorbar": {
              "outlinewidth": 0,
              "ticks": ""
             }
            },
            "marker": {
             "colorbar": {
              "outlinewidth": 0,
              "ticks": ""
             }
            },
            "type": "scatter3d"
           }
          ],
          "scattercarpet": [
           {
            "marker": {
             "colorbar": {
              "outlinewidth": 0,
              "ticks": ""
             }
            },
            "type": "scattercarpet"
           }
          ],
          "scattergeo": [
           {
            "marker": {
             "colorbar": {
              "outlinewidth": 0,
              "ticks": ""
             }
            },
            "type": "scattergeo"
           }
          ],
          "scattergl": [
           {
            "marker": {
             "colorbar": {
              "outlinewidth": 0,
              "ticks": ""
             }
            },
            "type": "scattergl"
           }
          ],
          "scattermapbox": [
           {
            "marker": {
             "colorbar": {
              "outlinewidth": 0,
              "ticks": ""
             }
            },
            "type": "scattermapbox"
           }
          ],
          "scatterpolar": [
           {
            "marker": {
             "colorbar": {
              "outlinewidth": 0,
              "ticks": ""
             }
            },
            "type": "scatterpolar"
           }
          ],
          "scatterpolargl": [
           {
            "marker": {
             "colorbar": {
              "outlinewidth": 0,
              "ticks": ""
             }
            },
            "type": "scatterpolargl"
           }
          ],
          "scatterternary": [
           {
            "marker": {
             "colorbar": {
              "outlinewidth": 0,
              "ticks": ""
             }
            },
            "type": "scatterternary"
           }
          ],
          "surface": [
           {
            "colorbar": {
             "outlinewidth": 0,
             "ticks": ""
            },
            "colorscale": [
             [
              0,
              "#0d0887"
             ],
             [
              0.1111111111111111,
              "#46039f"
             ],
             [
              0.2222222222222222,
              "#7201a8"
             ],
             [
              0.3333333333333333,
              "#9c179e"
             ],
             [
              0.4444444444444444,
              "#bd3786"
             ],
             [
              0.5555555555555556,
              "#d8576b"
             ],
             [
              0.6666666666666666,
              "#ed7953"
             ],
             [
              0.7777777777777778,
              "#fb9f3a"
             ],
             [
              0.8888888888888888,
              "#fdca26"
             ],
             [
              1,
              "#f0f921"
             ]
            ],
            "type": "surface"
           }
          ],
          "table": [
           {
            "cells": {
             "fill": {
              "color": "#EBF0F8"
             },
             "line": {
              "color": "white"
             }
            },
            "header": {
             "fill": {
              "color": "#C8D4E3"
             },
             "line": {
              "color": "white"
             }
            },
            "type": "table"
           }
          ]
         },
         "layout": {
          "annotationdefaults": {
           "arrowcolor": "#2a3f5f",
           "arrowhead": 0,
           "arrowwidth": 1
          },
          "autotypenumbers": "strict",
          "coloraxis": {
           "colorbar": {
            "outlinewidth": 0,
            "ticks": ""
           }
          },
          "colorscale": {
           "diverging": [
            [
             0,
             "#8e0152"
            ],
            [
             0.1,
             "#c51b7d"
            ],
            [
             0.2,
             "#de77ae"
            ],
            [
             0.3,
             "#f1b6da"
            ],
            [
             0.4,
             "#fde0ef"
            ],
            [
             0.5,
             "#f7f7f7"
            ],
            [
             0.6,
             "#e6f5d0"
            ],
            [
             0.7,
             "#b8e186"
            ],
            [
             0.8,
             "#7fbc41"
            ],
            [
             0.9,
             "#4d9221"
            ],
            [
             1,
             "#276419"
            ]
           ],
           "sequential": [
            [
             0,
             "#0d0887"
            ],
            [
             0.1111111111111111,
             "#46039f"
            ],
            [
             0.2222222222222222,
             "#7201a8"
            ],
            [
             0.3333333333333333,
             "#9c179e"
            ],
            [
             0.4444444444444444,
             "#bd3786"
            ],
            [
             0.5555555555555556,
             "#d8576b"
            ],
            [
             0.6666666666666666,
             "#ed7953"
            ],
            [
             0.7777777777777778,
             "#fb9f3a"
            ],
            [
             0.8888888888888888,
             "#fdca26"
            ],
            [
             1,
             "#f0f921"
            ]
           ],
           "sequentialminus": [
            [
             0,
             "#0d0887"
            ],
            [
             0.1111111111111111,
             "#46039f"
            ],
            [
             0.2222222222222222,
             "#7201a8"
            ],
            [
             0.3333333333333333,
             "#9c179e"
            ],
            [
             0.4444444444444444,
             "#bd3786"
            ],
            [
             0.5555555555555556,
             "#d8576b"
            ],
            [
             0.6666666666666666,
             "#ed7953"
            ],
            [
             0.7777777777777778,
             "#fb9f3a"
            ],
            [
             0.8888888888888888,
             "#fdca26"
            ],
            [
             1,
             "#f0f921"
            ]
           ]
          },
          "colorway": [
           "#636efa",
           "#EF553B",
           "#00cc96",
           "#ab63fa",
           "#FFA15A",
           "#19d3f3",
           "#FF6692",
           "#B6E880",
           "#FF97FF",
           "#FECB52"
          ],
          "font": {
           "color": "#2a3f5f"
          },
          "geo": {
           "bgcolor": "white",
           "lakecolor": "white",
           "landcolor": "#E5ECF6",
           "showlakes": true,
           "showland": true,
           "subunitcolor": "white"
          },
          "hoverlabel": {
           "align": "left"
          },
          "hovermode": "closest",
          "mapbox": {
           "style": "light"
          },
          "paper_bgcolor": "white",
          "plot_bgcolor": "#E5ECF6",
          "polar": {
           "angularaxis": {
            "gridcolor": "white",
            "linecolor": "white",
            "ticks": ""
           },
           "bgcolor": "#E5ECF6",
           "radialaxis": {
            "gridcolor": "white",
            "linecolor": "white",
            "ticks": ""
           }
          },
          "scene": {
           "xaxis": {
            "backgroundcolor": "#E5ECF6",
            "gridcolor": "white",
            "gridwidth": 2,
            "linecolor": "white",
            "showbackground": true,
            "ticks": "",
            "zerolinecolor": "white"
           },
           "yaxis": {
            "backgroundcolor": "#E5ECF6",
            "gridcolor": "white",
            "gridwidth": 2,
            "linecolor": "white",
            "showbackground": true,
            "ticks": "",
            "zerolinecolor": "white"
           },
           "zaxis": {
            "backgroundcolor": "#E5ECF6",
            "gridcolor": "white",
            "gridwidth": 2,
            "linecolor": "white",
            "showbackground": true,
            "ticks": "",
            "zerolinecolor": "white"
           }
          },
          "shapedefaults": {
           "line": {
            "color": "#2a3f5f"
           }
          },
          "ternary": {
           "aaxis": {
            "gridcolor": "white",
            "linecolor": "white",
            "ticks": ""
           },
           "baxis": {
            "gridcolor": "white",
            "linecolor": "white",
            "ticks": ""
           },
           "bgcolor": "#E5ECF6",
           "caxis": {
            "gridcolor": "white",
            "linecolor": "white",
            "ticks": ""
           }
          },
          "title": {
           "x": 0.05
          },
          "xaxis": {
           "automargin": true,
           "gridcolor": "white",
           "linecolor": "white",
           "ticks": "",
           "title": {
            "standoff": 15
           },
           "zerolinecolor": "white",
           "zerolinewidth": 2
          },
          "yaxis": {
           "automargin": true,
           "gridcolor": "white",
           "linecolor": "white",
           "ticks": "",
           "title": {
            "standoff": 15
           },
           "zerolinecolor": "white",
           "zerolinewidth": 2
          }
         }
        },
        "title": {
         "font": {
          "size": 16
         },
         "text": "<br>Actor Network in the Marvel Cinematic Universe"
        },
        "xaxis": {
         "showgrid": false,
         "showticklabels": false,
         "zeroline": false
        },
        "yaxis": {
         "showgrid": false,
         "showticklabels": false,
         "zeroline": false
        }
       }
      }
     },
     "metadata": {},
     "output_type": "display_data"
    },
    {
     "ename": "NameError",
     "evalue": "name 'plotly' is not defined",
     "output_type": "error",
     "traceback": [
      "\u001b[1;31m---------------------------------------------------------------------------\u001b[0m",
      "\u001b[1;31mNameError\u001b[0m                                 Traceback (most recent call last)",
      "\u001b[1;32m~\\AppData\\Local\\Temp/ipykernel_16788/1664967572.py\u001b[0m in \u001b[0;36m<module>\u001b[1;34m\u001b[0m\n\u001b[0;32m     14\u001b[0m \u001b[1;33m\u001b[0m\u001b[0m\n\u001b[0;32m     15\u001b[0m \u001b[0miplot\u001b[0m\u001b[1;33m(\u001b[0m\u001b[0mfig\u001b[0m\u001b[1;33m)\u001b[0m\u001b[1;33m\u001b[0m\u001b[1;33m\u001b[0m\u001b[0m\n\u001b[1;32m---> 16\u001b[1;33m \u001b[0mplotly\u001b[0m\u001b[1;33m.\u001b[0m\u001b[0mplot\u001b[0m\u001b[1;33m(\u001b[0m\u001b[0mfig\u001b[0m\u001b[1;33m)\u001b[0m\u001b[1;33m\u001b[0m\u001b[1;33m\u001b[0m\u001b[0m\n\u001b[0m",
      "\u001b[1;31mNameError\u001b[0m: name 'plotly' is not defined"
     ]
    }
   ],
   "source": [
    "fig = go.Figure(data=[edge_trace, node_trace],\n",
    "             layout=go.Layout(\n",
    "                title='<br>Actor Network in the Marvel Cinematic Universe',\n",
    "                titlefont=dict(size=16),\n",
    "                showlegend=False,\n",
    "                hovermode='closest',\n",
    "                margin=dict(b=20,l=5,r=5,t=40),\n",
    "                annotations=[ dict(\n",
    "                    text=\"No. of connections\",\n",
    "                    showarrow=False,\n",
    "                    xref=\"paper\", yref=\"paper\") ],\n",
    "                xaxis=dict(showgrid=False, zeroline=False, showticklabels=False),\n",
    "                yaxis=dict(showgrid=False, zeroline=False, showticklabels=False)))\n",
    "\n",
    "iplot(fig)\n",
    "plotly.plot(fig)"
   ]
  }
 ],
 "metadata": {
  "kernelspec": {
   "display_name": "Python 3.9.7 ('virenv')",
   "language": "python",
   "name": "python3"
  },
  "language_info": {
   "codemirror_mode": {
    "name": "ipython",
    "version": 3
   },
   "file_extension": ".py",
   "mimetype": "text/x-python",
   "name": "python",
   "nbconvert_exporter": "python",
   "pygments_lexer": "ipython3",
   "version": "3.9.7"
  },
  "orig_nbformat": 4,
  "vscode": {
   "interpreter": {
    "hash": "0a7c18412452d856a2f3ac0e5542b5d3b9d9d12e2269ac84ef541b341750302a"
   }
  }
 },
 "nbformat": 4,
 "nbformat_minor": 2
}
